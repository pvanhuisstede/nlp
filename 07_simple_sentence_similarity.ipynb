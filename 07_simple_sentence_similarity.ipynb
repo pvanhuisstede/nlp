{
 "cells": [
  {
   "cell_type": "code",
   "execution_count": null,
   "metadata": {},
   "outputs": [],
   "source": [
    "#| hide\n",
    "#| default_exp simple_sentence_similarity"
   ]
  },
  {
   "cell_type": "code",
   "execution_count": null,
   "metadata": {},
   "outputs": [],
   "source": [
    "#| hide\n",
    "%matplotlib inline\n",
    "from nbdev.showdoc import *"
   ]
  },
  {
   "cell_type": "markdown",
   "metadata": {},
   "source": [
    "# Simple Sentence Similarity\n",
    "(follows: https://github.com/nlptown/nlp-notebooks/blob/master/Simple%20Sentence%20Similarity.ipynb)"
   ]
  },
  {
   "cell_type": "markdown",
   "metadata": {},
   "source": [
    "## Data\n",
    "\n",
    "### STS Benchmark\n",
    "\n",
    "The STS Benchmark gathers the English data from the SemEval sentence similarity tasks (2012-2017). The data is split in training, development, and test data (uri: http://ixa2.si.ehu.es/stswiki/index.php/STSbenchmark)."
   ]
  },
  {
   "cell_type": "code",
   "execution_count": null,
   "metadata": {},
   "outputs": [
    {
     "name": "stderr",
     "output_type": "stream",
     "text": [
      "2022-09-08 09:44:23.216109: I tensorflow/core/platform/cpu_feature_guard.cc:193] This TensorFlow binary is optimized with oneAPI Deep Neural Network Library (oneDNN) to use the following CPU instructions in performance-critical operations:  AVX2 AVX512F AVX512_VNNI FMA\n",
      "To enable them in other operations, rebuild TensorFlow with the appropriate compiler flags.\n",
      "2022-09-08 09:44:23.362799: I tensorflow/core/util/util.cc:169] oneDNN custom operations are on. You may see slightly different numerical results due to floating-point round-off errors from different computation orders. To turn them off, set the environment variable `TF_ENABLE_ONEDNN_OPTS=0`.\n",
      "2022-09-08 09:44:23.392617: E tensorflow/stream_executor/cuda/cuda_blas.cc:2981] Unable to register cuBLAS factory: Attempting to register factory for plugin cuBLAS when one has already been registered\n",
      "2022-09-08 09:44:23.944077: W tensorflow/stream_executor/platform/default/dso_loader.cc:64] Could not load dynamic library 'libnvinfer.so.7'; dlerror: libnvinfer.so.7: cannot open shared object file: No such file or directory; LD_LIBRARY_PATH: /usr/lib/cuda-11.2/lib64::/home/peter/anaconda3/lib/\n",
      "2022-09-08 09:44:23.944153: W tensorflow/stream_executor/platform/default/dso_loader.cc:64] Could not load dynamic library 'libnvinfer_plugin.so.7'; dlerror: libnvinfer_plugin.so.7: cannot open shared object file: No such file or directory; LD_LIBRARY_PATH: /usr/lib/cuda-11.2/lib64::/home/peter/anaconda3/lib/\n",
      "2022-09-08 09:44:23.944157: W tensorflow/compiler/tf2tensorrt/utils/py_utils.cc:38] TF-TRT Warning: Cannot dlopen some TensorRT libraries. If you would like to use Nvidia GPU with TensorRT, please make sure the missing libraries mentioned above are installed properly.\n"
     ]
    }
   ],
   "source": [
    "#| export\n",
    "import pandas as pd\n",
    "import numpy as np\n",
    "import scipy\n",
    "import math\n",
    "import os\n",
    "import tensorflow as tf\n",
    "import matplotlib.pyplot as plt\n",
    "import seaborn as sns\n",
    "import nltk\n",
    "import requests\n",
    "import gensim\n",
    "from gensim.models import Word2Vec\n",
    "from gensim.scripts.glove2word2vec import glove2word2vec\n",
    "import csv\n",
    "from sklearn.metrics.pairwise import cosine_similarity\n",
    "from sklearn.decomposition import TruncatedSVD\n",
    "from collections import Counter\n",
    "import torch\n",
    "import tensorflow_hub as hub\n",
    "import functools as ft"
   ]
  },
  {
   "cell_type": "code",
   "execution_count": null,
   "metadata": {},
   "outputs": [],
   "source": [
    "#| export\n",
    "def load_sts_dataset(filename):\n",
    "  \"\"\" Loads a subset of the STS dataset into a DataFrame. In particular both sentences and their human rated similarity score.\"\"\"\n",
    "  sent_pairs = []\n",
    "  with open(filename, \"r\") as f:\n",
    "    for line in f:\n",
    "      ts = line.strip().split('\\t')\n",
    "      sent_pairs.append((ts[5], ts[6], float(ts[4])))\n",
    "  return pd.DataFrame(sent_pairs, columns=[\"sent_1\", \"sent_2\", \"sim\"])\n",
    "\n",
    "\"\"\"\n",
    "# commented out: We will use the local downloaded files\n",
    "def download_and_load_sts_data():\n",
    "  # We will grab the STS datasets from their website.\n",
    "  sts_dataset = tf.keras.utils.get_file(\n",
    "    fname=\"Stsbenchmark.tar.gz\",\n",
    "    origin=\"http://ixa2.si.ehu.es/stswiki/images/4/48/Stsbenchmark.tar.gz\",\n",
    "    extract=True\n",
    "  )\n",
    "\"\"\"\n",
    "\n",
    "sts_dev = load_sts_dataset('/home/peter/Documents/data/nlp/stsbenchmark/sts-dev.csv')\n",
    "sts_test = load_sts_dataset('/home/peter/Documents/data/nlp/stsbenchmark/sts-test.csv')"
   ]
  },
  {
   "cell_type": "code",
   "execution_count": null,
   "metadata": {},
   "outputs": [
    {
     "data": {
      "text/html": [
       "<div>\n",
       "<style scoped>\n",
       "    .dataframe tbody tr th:only-of-type {\n",
       "        vertical-align: middle;\n",
       "    }\n",
       "\n",
       "    .dataframe tbody tr th {\n",
       "        vertical-align: top;\n",
       "    }\n",
       "\n",
       "    .dataframe thead th {\n",
       "        text-align: right;\n",
       "    }\n",
       "</style>\n",
       "<table border=\"1\" class=\"dataframe\">\n",
       "  <thead>\n",
       "    <tr style=\"text-align: right;\">\n",
       "      <th></th>\n",
       "      <th>sent_1</th>\n",
       "      <th>sent_2</th>\n",
       "      <th>sim</th>\n",
       "    </tr>\n",
       "  </thead>\n",
       "  <tbody>\n",
       "    <tr>\n",
       "      <th>0</th>\n",
       "      <td>A man with a hard hat is dancing.</td>\n",
       "      <td>A man wearing a hard hat is dancing.</td>\n",
       "      <td>5.00</td>\n",
       "    </tr>\n",
       "    <tr>\n",
       "      <th>1</th>\n",
       "      <td>A young child is riding a horse.</td>\n",
       "      <td>A child is riding a horse.</td>\n",
       "      <td>4.75</td>\n",
       "    </tr>\n",
       "    <tr>\n",
       "      <th>2</th>\n",
       "      <td>A man is feeding a mouse to a snake.</td>\n",
       "      <td>The man is feeding a mouse to the snake.</td>\n",
       "      <td>5.00</td>\n",
       "    </tr>\n",
       "    <tr>\n",
       "      <th>3</th>\n",
       "      <td>A woman is playing the guitar.</td>\n",
       "      <td>A man is playing guitar.</td>\n",
       "      <td>2.40</td>\n",
       "    </tr>\n",
       "    <tr>\n",
       "      <th>4</th>\n",
       "      <td>A woman is playing the flute.</td>\n",
       "      <td>A man is playing a flute.</td>\n",
       "      <td>2.75</td>\n",
       "    </tr>\n",
       "  </tbody>\n",
       "</table>\n",
       "</div>"
      ],
      "text/plain": [
       "                                 sent_1  \\\n",
       "0     A man with a hard hat is dancing.   \n",
       "1      A young child is riding a horse.   \n",
       "2  A man is feeding a mouse to a snake.   \n",
       "3        A woman is playing the guitar.   \n",
       "4         A woman is playing the flute.   \n",
       "\n",
       "                                     sent_2   sim  \n",
       "0      A man wearing a hard hat is dancing.  5.00  \n",
       "1                A child is riding a horse.  4.75  \n",
       "2  The man is feeding a mouse to the snake.  5.00  \n",
       "3                  A man is playing guitar.  2.40  \n",
       "4                 A man is playing a flute.  2.75  "
      ]
     },
     "execution_count": null,
     "metadata": {},
     "output_type": "execute_result"
    }
   ],
   "source": [
    "#| hide\n",
    "sts_dev[:5]"
   ]
  },
  {
   "cell_type": "code",
   "execution_count": null,
   "metadata": {},
   "outputs": [
    {
     "data": {
      "text/html": [
       "<div>\n",
       "<style scoped>\n",
       "    .dataframe tbody tr th:only-of-type {\n",
       "        vertical-align: middle;\n",
       "    }\n",
       "\n",
       "    .dataframe tbody tr th {\n",
       "        vertical-align: top;\n",
       "    }\n",
       "\n",
       "    .dataframe thead th {\n",
       "        text-align: right;\n",
       "    }\n",
       "</style>\n",
       "<table border=\"1\" class=\"dataframe\">\n",
       "  <thead>\n",
       "    <tr style=\"text-align: right;\">\n",
       "      <th></th>\n",
       "      <th>sent_1</th>\n",
       "      <th>sent_2</th>\n",
       "      <th>sim</th>\n",
       "    </tr>\n",
       "  </thead>\n",
       "  <tbody>\n",
       "    <tr>\n",
       "      <th>0</th>\n",
       "      <td>A girl is styling her hair.</td>\n",
       "      <td>A girl is brushing her hair.</td>\n",
       "      <td>2.5</td>\n",
       "    </tr>\n",
       "    <tr>\n",
       "      <th>1</th>\n",
       "      <td>A group of men play soccer on the beach.</td>\n",
       "      <td>A group of boys are playing soccer on the beach.</td>\n",
       "      <td>3.6</td>\n",
       "    </tr>\n",
       "    <tr>\n",
       "      <th>2</th>\n",
       "      <td>One woman is measuring another woman's ankle.</td>\n",
       "      <td>A woman measures another woman's ankle.</td>\n",
       "      <td>5.0</td>\n",
       "    </tr>\n",
       "    <tr>\n",
       "      <th>3</th>\n",
       "      <td>A man is cutting up a cucumber.</td>\n",
       "      <td>A man is slicing a cucumber.</td>\n",
       "      <td>4.2</td>\n",
       "    </tr>\n",
       "    <tr>\n",
       "      <th>4</th>\n",
       "      <td>A man is playing a harp.</td>\n",
       "      <td>A man is playing a keyboard.</td>\n",
       "      <td>1.5</td>\n",
       "    </tr>\n",
       "  </tbody>\n",
       "</table>\n",
       "</div>"
      ],
      "text/plain": [
       "                                          sent_1  \\\n",
       "0                    A girl is styling her hair.   \n",
       "1       A group of men play soccer on the beach.   \n",
       "2  One woman is measuring another woman's ankle.   \n",
       "3                A man is cutting up a cucumber.   \n",
       "4                       A man is playing a harp.   \n",
       "\n",
       "                                             sent_2  sim  \n",
       "0                      A girl is brushing her hair.  2.5  \n",
       "1  A group of boys are playing soccer on the beach.  3.6  \n",
       "2           A woman measures another woman's ankle.  5.0  \n",
       "3                      A man is slicing a cucumber.  4.2  \n",
       "4                      A man is playing a keyboard.  1.5  "
      ]
     },
     "execution_count": null,
     "metadata": {},
     "output_type": "execute_result"
    }
   ],
   "source": [
    "#| hide\n",
    "sts_test[:5]"
   ]
  },
  {
   "cell_type": "markdown",
   "metadata": {},
   "source": [
    "### SICK data\n",
    "\n",
    "The SICK dataset contains 10_000 English sentence pairs labelled with their semantic relatedness and entailment relation."
   ]
  },
  {
   "cell_type": "code",
   "execution_count": null,
   "metadata": {},
   "outputs": [],
   "source": [
    "#| export\n",
    "def download_sick(f): \n",
    "\n",
    "    response = requests.get(f).text\n",
    "\n",
    "    lines = response.split(\"\\n\")[1:]\n",
    "    lines = [l.split(\"\\t\") for l in lines if len(l) > 0]\n",
    "    lines = [l for l in lines if len(l) == 5]\n",
    "\n",
    "    df = pd.DataFrame(lines, columns=[\"idx\", \"sent_1\", \"sent_2\", \"sim\", \"label\"])\n",
    "    df['sim'] = pd.to_numeric(df['sim'])\n",
    "    return df\n",
    "    \n",
    "sick_train = download_sick(\"https://raw.githubusercontent.com/alvations/stasis/master/SICK-data/SICK_train.txt\")\n",
    "sick_dev = download_sick(\"https://raw.githubusercontent.com/alvations/stasis/master/SICK-data/SICK_trial.txt\")\n",
    "sick_test = download_sick(\"https://raw.githubusercontent.com/alvations/stasis/master/SICK-data/SICK_test_annotated.txt\")\n",
    "sick_all = pd.concat([sick_train, sick_test, sick_dev])"
   ]
  },
  {
   "cell_type": "code",
   "execution_count": null,
   "metadata": {},
   "outputs": [
    {
     "data": {
      "text/html": [
       "<div>\n",
       "<style scoped>\n",
       "    .dataframe tbody tr th:only-of-type {\n",
       "        vertical-align: middle;\n",
       "    }\n",
       "\n",
       "    .dataframe tbody tr th {\n",
       "        vertical-align: top;\n",
       "    }\n",
       "\n",
       "    .dataframe thead th {\n",
       "        text-align: right;\n",
       "    }\n",
       "</style>\n",
       "<table border=\"1\" class=\"dataframe\">\n",
       "  <thead>\n",
       "    <tr style=\"text-align: right;\">\n",
       "      <th></th>\n",
       "      <th>idx</th>\n",
       "      <th>sent_1</th>\n",
       "      <th>sent_2</th>\n",
       "      <th>sim</th>\n",
       "      <th>label</th>\n",
       "    </tr>\n",
       "  </thead>\n",
       "  <tbody>\n",
       "    <tr>\n",
       "      <th>0</th>\n",
       "      <td>1</td>\n",
       "      <td>A group of kids is playing in a yard and an ol...</td>\n",
       "      <td>A group of boys in a yard is playing and a man...</td>\n",
       "      <td>4.5</td>\n",
       "      <td>NEUTRAL</td>\n",
       "    </tr>\n",
       "    <tr>\n",
       "      <th>1</th>\n",
       "      <td>2</td>\n",
       "      <td>A group of children is playing in the house an...</td>\n",
       "      <td>A group of kids is playing in a yard and an ol...</td>\n",
       "      <td>3.2</td>\n",
       "      <td>NEUTRAL</td>\n",
       "    </tr>\n",
       "    <tr>\n",
       "      <th>2</th>\n",
       "      <td>3</td>\n",
       "      <td>The young boys are playing outdoors and the ma...</td>\n",
       "      <td>The kids are playing outdoors near a man with ...</td>\n",
       "      <td>4.7</td>\n",
       "      <td>ENTAILMENT</td>\n",
       "    </tr>\n",
       "    <tr>\n",
       "      <th>3</th>\n",
       "      <td>5</td>\n",
       "      <td>The kids are playing outdoors near a man with ...</td>\n",
       "      <td>A group of kids is playing in a yard and an ol...</td>\n",
       "      <td>3.4</td>\n",
       "      <td>NEUTRAL</td>\n",
       "    </tr>\n",
       "    <tr>\n",
       "      <th>4</th>\n",
       "      <td>9</td>\n",
       "      <td>The young boys are playing outdoors and the ma...</td>\n",
       "      <td>A group of kids is playing in a yard and an ol...</td>\n",
       "      <td>3.7</td>\n",
       "      <td>NEUTRAL</td>\n",
       "    </tr>\n",
       "  </tbody>\n",
       "</table>\n",
       "</div>"
      ],
      "text/plain": [
       "  idx                                             sent_1  \\\n",
       "0   1  A group of kids is playing in a yard and an ol...   \n",
       "1   2  A group of children is playing in the house an...   \n",
       "2   3  The young boys are playing outdoors and the ma...   \n",
       "3   5  The kids are playing outdoors near a man with ...   \n",
       "4   9  The young boys are playing outdoors and the ma...   \n",
       "\n",
       "                                              sent_2  sim       label  \n",
       "0  A group of boys in a yard is playing and a man...  4.5     NEUTRAL  \n",
       "1  A group of kids is playing in a yard and an ol...  3.2     NEUTRAL  \n",
       "2  The kids are playing outdoors near a man with ...  4.7  ENTAILMENT  \n",
       "3  A group of kids is playing in a yard and an ol...  3.4     NEUTRAL  \n",
       "4  A group of kids is playing in a yard and an ol...  3.7     NEUTRAL  "
      ]
     },
     "execution_count": null,
     "metadata": {},
     "output_type": "execute_result"
    }
   ],
   "source": [
    "#| test\n",
    "sick_all[:5]"
   ]
  },
  {
   "cell_type": "markdown",
   "metadata": {},
   "source": [
    "## Preparation\n",
    "\n",
    "Some of the models we will use require **tokenization** , others do not require it. We define a simple `sentence` class where we keep both the raw sentence and the tokenized sentence. The individual methods then can pick the input they need."
   ]
  },
  {
   "cell_type": "code",
   "execution_count": null,
   "metadata": {},
   "outputs": [],
   "source": [
    "#| export\n",
    "STOP = set(nltk.corpus.stopwords.words('english'))\n",
    "\n",
    "class Sentence:\n",
    "  def __init__(self, sentence):\n",
    "    self.raw = sentence\n",
    "    normalized_sentence = sentence.replace(\"‘\", \"'\").replace(\"’\", \"'\")\n",
    "    self.tokens = [t.lower() for t in nltk.word_tokenize(normalized_sentence)]\n",
    "    self.tokens_without_stop = [t for t in self.tokens if t not in STOP]"
   ]
  },
  {
   "cell_type": "markdown",
   "metadata": {},
   "source": [
    "The author of the NB uses two pre-trained word embeddings: `word2vec` and `GloVe` via the `gensim` library. GloVe gives some trouble, because it needs to be converted into word2vec format (which takes > 10 minutes). So, we skip the GloVe word embeddings here."
   ]
  },
  {
   "cell_type": "code",
   "execution_count": null,
   "metadata": {},
   "outputs": [],
   "source": [
    "#| export\n",
    "PATH_TO_WORD2VEC = os.path.expanduser(\"~/Documents/data/nlp/GoogleNews-vectors-negative300.bin\")\n",
    "PATH_TO_GLOVE = os.path.expanduser(\"~/Documents/data/nlp/glove.840B.300d.txt\")\n",
    "\n",
    "word2vec = gensim.models.KeyedVectors.load_word2vec_format(PATH_TO_WORD2VEC, binary=True)"
   ]
  },
  {
   "cell_type": "markdown",
   "metadata": {},
   "source": [
    "In order to be able to compute weighted averages of word embedding in a later stage, we are going to load a file with word freqs that have been collected from Wikipedia:"
   ]
  },
  {
   "cell_type": "code",
   "execution_count": null,
   "metadata": {},
   "outputs": [],
   "source": [
    "#| export\n",
    "PATH_TO_FREQUENCIES_FILE = os.path.expanduser('~/Documents/data/nlp/frequencies.tsv')\n",
    "PATH_TO_DOC_FREQUENCIES_FILE = os.path.expanduser('~/Documents/data/nlp/doc_frequencies.tsv')\n",
    "\n",
    "def read_tsv(f):\n",
    "  frequencies = {}\n",
    "  with open(f) as tsv:\n",
    "    tsv_reader = csv.reader(tsv, delimiter='\\t')\n",
    "    for row in tsv_reader:\n",
    "      frequencies[row[0]] = int(row[1])\n",
    "  return frequencies\n",
    "\n",
    "frequencies = read_tsv(PATH_TO_FREQUENCIES_FILE)\n",
    "doc_frequencies = read_tsv(PATH_TO_DOC_FREQUENCIES_FILE)\n",
    "doc_frequencies[\"NUM_DOCS\"] = 1_288_431"
   ]
  },
  {
   "cell_type": "code",
   "execution_count": null,
   "metadata": {},
   "outputs": [
    {
     "data": {
      "text/plain": [
       "3388135"
      ]
     },
     "execution_count": null,
     "metadata": {},
     "output_type": "execute_result"
    }
   ],
   "source": [
    "#| hide\n",
    "len(doc_frequencies)"
   ]
  },
  {
   "cell_type": "markdown",
   "metadata": {},
   "source": [
    "## Similarity methods\n",
    "\n",
    "### Baseline\n",
    "\n",
    "The simplest way of computing sentence embeddings is taking the embeddings of words in the sentence, minus the stopwords, and compute their average, weighted by the sentence frequency of each word.\n",
    "\n",
    "Then we can use **cosine similarity** to calculate the distance between two sentence embeddings:"
   ]
  },
  {
   "cell_type": "code",
   "execution_count": null,
   "metadata": {},
   "outputs": [],
   "source": [
    "#| export\n",
    "def run_avg_benchmark(sentences1, sentences2, model=None, use_stoplist=False, doc_freqs=None):\n",
    "  if doc_freqs is not None:\n",
    "    N = doc_freqs['NUM_DOCS']\n",
    "\n",
    "  sims = []\n",
    "  for (sent1, sent2) in zip(sentences1, sentences2):\n",
    "    tokens1 = sent1.tokens_without_stop if use_stoplist else sent1.tokens\n",
    "    tokens2 = sent2.tokens_without_stop if use_stoplist else sent2.tokens\n",
    "\n",
    "    tokens1 = [token for token in tokens1 if token in model]\n",
    "    tokens2 = [token for token in tokens2 if token in model]\n",
    "\n",
    "    if len(tokens1) == 0 or len(tokens2) == 0:\n",
    "      sims.append(0)\n",
    "      continue\n",
    "\n",
    "    tokfreqs1 = Counter(tokens1)\n",
    "    tokfreqs2 = Counter(tokens2)\n",
    "  \n",
    "    weights1 = [tokfreqs1[token] * math.log(N/(doc_freqs.get(token, 0)+1)) \n",
    "                for token in tokfreqs1] if doc_freqs else None\n",
    "    weights2 = [tokfreqs2[token] * math.log(N/(doc_freqs.get(token, 0)+1)) \n",
    "                for token in tokfreqs2] if doc_freqs else None\n",
    "                \n",
    "    embedding1 = np.average([model[token] for token in tokfreqs1], axis=0, weights=weights1).reshape(1, -1)\n",
    "    embedding2 = np.average([model[token] for token in tokfreqs2], axis=0, weights=weights2).reshape(1, -1)\n",
    "\n",
    "    sim = cosine_similarity(embedding1, embedding2)[0][0]\n",
    "    sims.append(sim)\n",
    "\n",
    "  return sims"
   ]
  },
  {
   "cell_type": "markdown",
   "metadata": {},
   "source": [
    "### Word Mover's Distance (WMD)\n",
    "\n",
    "WMD is an alternative to simple average embeddings similarity. It uses the word embeddings of the words in two texts to measure the minimum amount that the words in text 1 need to \"travel\" in **semantic space** to reach the words in text 2. WMD is available in the `gensim` library."
   ]
  },
  {
   "cell_type": "code",
   "execution_count": null,
   "metadata": {},
   "outputs": [],
   "source": [
    "#| export\n",
    "def run_wmd_benchmark(sentences1, sentences2, model, use_stoplist=False):\n",
    "    \n",
    "  sims = []\n",
    "  for (sent1, sent2) in zip(sentences1, sentences2):\n",
    "    \n",
    "    tokens1 = sent1.tokens_without_stop if use_stoplist else sent1.tokens\n",
    "    tokens2 = sent2.tokens_without_stop if use_stoplist else sent2.tokens\n",
    "        \n",
    "    tokens1 = [token for token in tokens1 if token in model]\n",
    "    tokens2 = [token for token in tokens2 if token in model]\n",
    "        \n",
    "    if len(tokens1) == 0 or len(tokens2) == 0:\n",
    "      tokens1 = [token for token in sent1.tokens if token in model]\n",
    "      tokens2 = [token for token in sent2.tokens if token in model]\n",
    "            \n",
    "    sims.append(-model.wmdistance(tokens1, tokens2))\n",
    "        \n",
    "  return sims"
   ]
  },
  {
   "cell_type": "markdown",
   "metadata": {},
   "source": [
    "### Smooth Inverse Frequency (SIF)\n",
    "\n",
    "Taking the average of the word embeddings in a sentence is a crude procedure: Too much weight is given to irrelevant words. SIF tries to remedy this problem.\n",
    "\n",
    "With SIF sentence embeddings:\n",
    "\n",
    "1. we first compute a weighted average of token embeddings in a sentence with a different weight procedure\n",
    "2. we apply common component removal (removing high-freq words that have just a syntactical function: just, but, etc.)"
   ]
  },
  {
   "cell_type": "code",
   "execution_count": null,
   "metadata": {},
   "outputs": [],
   "source": [
    "#| export\n",
    "def remove_first_principal_component(X):\n",
    "  svd = TruncatedSVD(n_components=1, n_iter=7, random_state=0)\n",
    "  svd.fit(X)\n",
    "  pc = svd.components_\n",
    "  XX = X - X.dot(pc.transpose()) * pc\n",
    "  return XX\n",
    "\n",
    "\n",
    "def run_sif_benchmark(sentences1, sentences2, model, freqs={}, use_stoplist=False, a=0.001): \n",
    "  total_freq = sum(freqs.values())\n",
    "\n",
    "  embeddings = []\n",
    "\n",
    "  # SIF requires us to first collect all sentence embeddings and then perform \n",
    "  # common component analysis.\n",
    "  for (sent1, sent2) in zip(sentences1, sentences2): \n",
    "      \n",
    "    tokens1 = sent1.tokens_without_stop if use_stoplist else sent1.tokens\n",
    "    tokens2 = sent2.tokens_without_stop if use_stoplist else sent2.tokens\n",
    "      \n",
    "    tokens1 = [token for token in tokens1 if token in model]\n",
    "    tokens2 = [token for token in tokens2 if token in model]\n",
    "      \n",
    "    weights1 = [a/(a+freqs.get(token,0)/total_freq) for token in tokens1]\n",
    "    weights2 = [a/(a+freqs.get(token,0)/total_freq) for token in tokens2]\n",
    "      \n",
    "    embedding1 = np.average([model[token] for token in tokens1], axis=0, weights=weights1)\n",
    "    embedding2 = np.average([model[token] for token in tokens2], axis=0, weights=weights2)\n",
    "      \n",
    "    embeddings.append(embedding1)\n",
    "    embeddings.append(embedding2)\n",
    "      \n",
    "  embeddings = remove_first_principal_component(np.array(embeddings))\n",
    "  sims = [cosine_similarity(embeddings[idx*2].reshape(1, -1), \n",
    "                            embeddings[idx*2+1].reshape(1, -1))[0][0] \n",
    "          for idx in range(int(len(embeddings)/2))]\n",
    "\n",
    "  return sims"
   ]
  },
  {
   "cell_type": "markdown",
   "metadata": {},
   "source": [
    "Both methods above are BOW methods -- they do not take word order into account.\n",
    "Both times the word embeddings are learned in an **unsupervised** manner.\n",
    "\n",
    "Perhaps we can do better if we do base our embeddings on word order and used **supervised** training."
   ]
  },
  {
   "cell_type": "markdown",
   "metadata": {},
   "source": [
    "### Experiments\n",
    "\n",
    "We could not reproduce the GloVe, Infersents and GSE experiments."
   ]
  },
  {
   "cell_type": "code",
   "execution_count": null,
   "metadata": {},
   "outputs": [],
   "source": [
    "#| export\n",
    "def run_experiment(df, benchmarks): \n",
    "    \n",
    "    sentences1 = [Sentence(s) for s in df['sent_1']]\n",
    "    sentences2 = [Sentence(s) for s in df['sent_2']]\n",
    "    \n",
    "    pearson_cors, spearman_cors = [], []\n",
    "    for label, method in benchmarks:\n",
    "        sims = method(sentences1, sentences2)\n",
    "        pearson_correlation = scipy.stats.pearsonr(sims, df['sim'])[0]\n",
    "        print(label, pearson_correlation)\n",
    "        pearson_cors.append(pearson_correlation)\n",
    "        spearman_correlation = scipy.stats.spearmanr(sims, df['sim'])[0]\n",
    "        spearman_cors.append(spearman_correlation)\n",
    "        \n",
    "    return pearson_cors, spearman_cors"
   ]
  },
  {
   "cell_type": "code",
   "execution_count": null,
   "metadata": {},
   "outputs": [
    {
     "name": "stdout",
     "output_type": "stream",
     "text": [
      "AVG-W2V 0.7165220637923075\n",
      "AVG-W2V-STOP 0.7014898775706087\n",
      "AVG-W2V-TFIDF 0.7096471932652145\n",
      "AVG-W2V-TFIDF-STOP 0.6994376660669077\n",
      "WMD-W2V 0.6257507950730131\n",
      "WMD-W2V-STOP 0.6361876534824065\n",
      "SIF-W2V 0.7252383011188148\n",
      "AVG-W2V 0.7296376445303951\n",
      "AVG-W2V-STOP 0.7140806503315156\n",
      "AVG-W2V-TFIDF 0.6928386300519529\n",
      "AVG-W2V-TFIDF-STOP 0.6868900348081443\n",
      "WMD-W2V 0.6181445400062197\n",
      "WMD-W2V-STOP 0.6256119028031648\n",
      "SIF-W2V 0.729060153111828\n",
      "AVG-W2V 0.7146253519592431\n",
      "AVG-W2V-STOP 0.751154885130374\n",
      "AVG-W2V-TFIDF 0.7440319663788372\n",
      "AVG-W2V-TFIDF-STOP 0.744428767312474\n",
      "WMD-W2V 0.6499437974825442\n",
      "WMD-W2V-STOP 0.7186238584902462\n",
      "SIF-W2V 0.7675717610296409\n",
      "AVG-W2V 0.6245303875861393\n",
      "AVG-W2V-STOP 0.6094885355928743\n",
      "AVG-W2V-TFIDF 0.6399221957852945\n",
      "AVG-W2V-TFIDF-STOP 0.5876303025000269\n",
      "WMD-W2V 0.5517199370744937\n",
      "WMD-W2V-STOP 0.653875367178549\n",
      "SIF-W2V 0.6897612189058901\n"
     ]
    }
   ],
   "source": [
    "#| export\n",
    "benchmarks = [(\"AVG-W2V\", ft.partial(run_avg_benchmark, model=word2vec, use_stoplist=False)),\n",
    "              (\"AVG-W2V-STOP\", ft.partial(run_avg_benchmark, model=word2vec, use_stoplist=True)),\n",
    "              (\"AVG-W2V-TFIDF\", ft.partial(run_avg_benchmark, model=word2vec, use_stoplist=False, doc_freqs=doc_frequencies)),\n",
    "              (\"AVG-W2V-TFIDF-STOP\", ft.partial(run_avg_benchmark, model=word2vec, use_stoplist=True, doc_freqs=doc_frequencies)),\n",
    "              (\"WMD-W2V\", ft.partial(run_wmd_benchmark, model=word2vec, use_stoplist=False)), \n",
    "              (\"WMD-W2V-STOP\", ft.partial(run_wmd_benchmark, model=word2vec, use_stoplist=True)), \n",
    "              (\"SIF-W2V\", ft.partial(run_sif_benchmark, freqs=frequencies, model=word2vec, use_stoplist=False)),\n",
    "]\n",
    "\n",
    "pearson_results, spearman_results = {}, {}\n",
    "pearson_results[\"SICK-DEV\"], spearman_results[\"SICK-DEV\"] = run_experiment(sick_dev, benchmarks)\n",
    "pearson_results[\"SICK-TEST\"], spearman_results[\"SICK-TEST\"] = run_experiment(sick_test, benchmarks)\n",
    "pearson_results[\"STS-DEV\"], spearman_results[\"STS-DEV\"] = run_experiment(sts_dev, benchmarks)\n",
    "pearson_results[\"STS-TEST\"], spearman_results[\"STS-TEST\"] = run_experiment(sts_test, benchmarks) "
   ]
  },
  {
   "cell_type": "markdown",
   "metadata": {},
   "source": [
    "### Conclusions sofar\n",
    "\n",
    "We were not able to reproduce results for:\n",
    "\n",
    "- the glove model. Did not compile with current stack\n",
    "- the FB Infersent embeddings\n",
    "- the Google Sentence Encoder embeddings\n",
    "\n",
    "That leaves us with the word2vec results. Which is not bad at all. This simple model outperforms GloVe."
   ]
  },
  {
   "cell_type": "code",
   "execution_count": null,
   "metadata": {},
   "outputs": [],
   "source": [
    "#| export\n",
    "plt.rcParams['figure.figsize'] = (10,5)\n",
    "\n",
    "pearson_results_df = pd.DataFrame(pearson_results)\n",
    "pearson_results_df = pearson_results_df.transpose()\n",
    "pearson_results_df = pearson_results_df.rename(columns={i:b[0] for i, b in enumerate(benchmarks)})\n",
    "\n",
    "spearman_results_df = pd.DataFrame(spearman_results)\n",
    "spearman_results_df = spearman_results_df.transpose()\n",
    "spearman_results_df = spearman_results_df.rename(columns={i:b[0] for i, b in enumerate(benchmarks)})"
   ]
  },
  {
   "cell_type": "code",
   "execution_count": null,
   "metadata": {},
   "outputs": [
    {
     "data": {
      "text/plain": [
       "<matplotlib.legend.Legend>"
      ]
     },
     "execution_count": null,
     "metadata": {},
     "output_type": "execute_result"
    },
    {
     "data": {
      "image/png": "[encoded data removed]",
      "text/plain": [
       "<Figure size 1000x500 with 1 Axes>"
      ]
     },
     "metadata": {},
     "output_type": "display_data"
    }
   ],
   "source": [
    "#| hide\n",
    "pearson_results_df[[b[0] for b in benchmarks if b[0].startswith(\"AVG\")]].plot(kind=\"bar\").legend(loc=\"lower left\")"
   ]
  },
  {
   "cell_type": "code",
   "execution_count": null,
   "metadata": {},
   "outputs": [
    {
     "data": {
      "text/plain": [
       "<matplotlib.legend.Legend>"
      ]
     },
     "execution_count": null,
     "metadata": {},
     "output_type": "execute_result"
    },
    {
     "data": {
      "image/png": "[encoded data removed]",
      "text/plain": [
       "<Figure size 1000x500 with 1 Axes>"
      ]
     },
     "metadata": {},
     "output_type": "display_data"
    }
   ],
   "source": [
    "#| hide\n",
    "pearson_results_df[[\"AVG-W2V\", \"WMD-W2V\", \"WMD-W2V-STOP\", \"SIF-W2V\"]].plot(kind=\"bar\").legend(loc=\"lower left\")"
   ]
  },
  {
   "cell_type": "markdown",
   "metadata": {},
   "source": [
    "## Conclusions\n",
    "\n",
    "- word2vec embeddings are a good choice for computing sentence similarity\n",
    "- SIF outperforms yje unweighted average of word embeddings\n",
    "- Pre-trained encoders do NOT add a spectacular gain, if they add anything at all."
   ]
  }
 ],
 "metadata": {
  "kernelspec": {
   "display_name": "Python 3.9.12 ('base')",
   "language": "python",
   "name": "python3"
  }
 },
 "nbformat": 4,
 "nbformat_minor": 2
}
