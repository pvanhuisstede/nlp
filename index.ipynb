{
 "cells": [
  {
   "cell_type": "markdown",
   "metadata": {},
   "source": [
    "# NLP Telematika tutorials\n",
    "\n",
    "> A set of nbs under nbdev that follows the Telematika tutorials at:\n",
    "\n",
    "https://repo.telematika.org/project/nlptown_nlp-notebooks/"
   ]
  },
  {
   "cell_type": "markdown",
   "metadata": {},
   "source": [
    "This repo contains input by several nbs by Telematika:\n",
    "\n",
    "- NLP 101:\n",
    "  - 00_word_embeddings.ipynb (An introduction to word embeddings)\n",
    "  - 01_pretrained_models.ipynb (NLP with pre-trained models from spaCy and StanfordNLP)\n",
    "  - 02_discovering_topics.ipynb (Discovering and visualizing topics in texts with LDA)\n",
    "\n",
    "- Named Entity Recognition (NER)\n",
    "  - 03_spacy_ner.ipynb (Updating spaCy's NER system)\n"
   ]
  }
 ],
 "metadata": {
  "kernelspec": {
   "display_name": "Python 3.11.0b5 64-bit",
   "language": "python",
   "name": "python3"
  },
  "language_info": {
   "name": "python",
   "version": "3.11.0"
  },
  "vscode": {
   "interpreter": {
    "hash": "ead1b95f633dc9c51826328e1846203f51a198c6fb5f2884a80417ba131d4e82"
   }
  }
 },
 "nbformat": 4,
 "nbformat_minor": 4
}
