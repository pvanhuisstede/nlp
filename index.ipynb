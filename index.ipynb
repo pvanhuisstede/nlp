{
 "cells": [
  {
   "cell_type": "markdown",
   "metadata": {},
   "source": [
    "# NLP Telematika tutorials\n",
    "\n",
    "> A set of nbs under nbdev that follows the Telematika tutorials at:\n",
    "\n",
    "https://repo.telematika.org/project/nlptown_nlp-notebooks/"
   ]
  },
  {
   "cell_type": "markdown",
   "metadata": {},
   "source": [
    "This repo contains input by several nbs by Telematika:\n",
    "\n",
    "1. NLP 101:\n",
    "\n",
    "    1.1 00_word_embeddings.ipynb (An introduction to word embeddings)\n",
    "\n",
    "    1.2 01_pretrained_models.ipynb (NLP with pre-trained models from spaCy and Stanza)\n",
    "    \n",
    "    1.3 02_discovering_topics.ipynb (Discovering and Visualizing Topics in Texts with LDA)\n",
    "\n",
    "2. Named Entity Recognition (NER):\n",
    "\n",
    "    2.1 03_spacy_ner.ipynb (Using spaCy's Named Entity Recognition System)\n"
   ]
  }
 ],
 "metadata": {
  "kernelspec": {
   "display_name": "Python 3.9.12 ('base')",
   "language": "python",
   "name": "python3"
  }
 },
 "nbformat": 4,
 "nbformat_minor": 4
}
