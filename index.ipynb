{
 "cells": [
  {
   "cell_type": "markdown",
   "metadata": {},
   "source": [
    "# NLP Telematika tutorials\n",
    "\n",
    "> A set of nbs under nbdev that follows the Telematika tutorials at:\n",
    "\n",
    "https://repo.telematika.org/project/nlptown_nlp-notebooks/"
   ]
  },
  {
   "cell_type": "markdown",
   "metadata": {},
   "source": [
    "This repo contains input by several nbs by Telematika:\n",
    "\n",
    "- NLP 101:\n",
    "  - 00_word_embeddings.ipynb (An introduction to word embeddings)\n",
    "  - 01_pretrained_models.ipynb (NLP with pre-trained models from spaCy and Stanza)\n",
    "\n",
    "- Named Entity Recognition (NER)\n",
    "  -\n"
   ]
  }
 ],
 "metadata": {
  "kernelspec": {
   "display_name": "Python 3.11.0b5 64-bit",
   "language": "python",
   "name": "python3"
  }
 },
 "nbformat": 4,
 "nbformat_minor": 4
}
